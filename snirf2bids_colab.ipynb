{
  "cells": [
    {
      "cell_type": "markdown",
      "metadata": {
        "id": "5u50XenRiQ7_"
      },
      "source": [
        "# Convert a fNIRS dataset to BIDS\n",
        "\n",
        "<span style=\"font-size: large; color: red;\"> Do not run all cells at once. Carefully read the comments before each code cell — some steps require you to manually modify certain files (e.g., the mapping CSV) before proceeding.<br> Make sure all required edits are completed before continuing to the next step.</span>"
      ]
    },
    {
      "cell_type": "code",
      "execution_count": null,
      "metadata": {
        "colab": {
          "base_uri": "https://localhost:8080/",
          "height": 1000
        },
        "id": "SKGmyg1ii3-I",
        "outputId": "bc84cd6b-a969-4d55-8c11-e038559595c3"
      },
      "outputs": [],
      "source": [
        "# This cells setups the environment when executed in Google Colab.\n",
        "try:\n",
        "    import google.colab\n",
        "    !curl -s https://raw.githubusercontent.com/ibs-lab/cedalion/dev/scripts/colab_setup.py -o colab_setup.py\n",
        "    # Select branch with --branch \"branch name\" (default is \"dev\")\n",
        "    !pip install git+https://github.com/shakiba93/snirf2bids.git@fix-numpy2-compatibility\n",
        "    !pip install ipysheet\n",
        "    !pip cache purge\n",
        "    %run colab_setup.py --branch \"dev\"\n",
        "\n",
        "except ImportError:\n",
        "    pass"
      ]
    },
    {
      "cell_type": "code",
      "execution_count": null,
      "metadata": {
        "colab": {
          "base_uri": "https://localhost:8080/"
        },
        "id": "6wXiscuLiQ7_",
        "outputId": "15e87b09-4466-4c12-c058-58f60180d1c2"
      },
      "outputs": [],
      "source": [
        "import os\n",
        "import re\n",
        "import shutil\n",
        "from pathlib import Path\n",
        "from tempfile import TemporaryDirectory\n",
        "\n",
        "import pandas as pd\n",
        "import snirf2bids as s2b\n",
        "from seedir import seedir\n",
        "from rich import print_json\n",
        "\n",
        "from cedalion.datasets import get_snirf2bids_example_dataset\n",
        "from cedalion.io import bids\n",
        "\n",
        "import json\n",
        "import ipysheet\n",
        "\n",
        "import logging\n",
        "logging.getLogger().setLevel(logging.ERROR)  # only show errors\n",
        "\n",
        "from google.colab import output\n",
        "output.enable_custom_widget_manager()\n"
      ]
    },
    {
      "cell_type": "markdown",
      "metadata": {},
      "source": [
        "## Convert your own dataset or an example\n",
        "\n",
        "When the constant `DEMO_MODE` is set to `True`, an example dataset is used. Set it to `False` and modify the notebook variables as described below to convert a different dataset."
      ]
    },
    {
      "cell_type": "code",
      "execution_count": null,
      "metadata": {},
      "outputs": [],
      "source": [
        "DEMO_MODE = True"
      ]
    },
    {
      "cell_type": "markdown",
      "metadata": {
        "id": "DNvPCNFTiQ8A"
      },
      "source": [
        "## Provide file paths and meta data\n",
        "\n",
        "This notebook shows how to convert an fNIRS dataset into BIDS format. To use it, provide the following inputs:\n",
        "\n",
        "1.  Dataset Path: Folder containing the raw dataset.\n",
        "2.  Destination Path: Folder where the BIDS-compliant dataset will be saved.\n",
        "3.  Mapping CSV File: CSV file that defines the dataset structure and provides necessary details for BIDS conversion.\n",
        "4.  (Optional) extra_meta_data File: Additional metadata to include in the description.json file. You can use [this google form](https://docs.google.com/forms/d/e/1FAIpQLSeZjlgIqCwp054HsHmTBKPziqcOlfTcaWpdXcGFYPDf0Q5vNg/viewform?usp=sf_link) or [this website](https://neurojson.org/Create/dataset_description_fnirs) to create this file.\n",
        "5.  (Optional) participants.tsv / participants.json files. If you already have a participants.tsv/.json file and provide the link below, it will be used directly.\n",
        "Alternatively, if you have participant-level metadata saved in a CSV or Excel file, with the first column as the participant ID and the remaining columns as metadata (with appropriate headers) and you provide the link to it below, the script will convert it into properly formatted .tsv and .json files for BIDS."
      ]
    },
    {
      "cell_type": "code",
      "execution_count": null,
      "metadata": {
        "id": "plT8E0_biQ8A"
      },
      "outputs": [],
      "source": [
        "if DEMO_MODE:\n",
        "    dataset_path, edited_mapping_df_path = get_snirf2bids_example_dataset()\n",
        "\n",
        "    temporary_directory = TemporaryDirectory()\n",
        "    destination_path = Path(temporary_directory.name)\n",
        "\n",
        "    print(f\"dataset_path    : {dataset_path}\\ndestination_path: {destination_path}\\n\")\n",
        "    seedir(dataset_path)\n",
        "\n",
        "else:\n",
        "    dataset_path = Path('path-to-your-dataset-folder')  # REQUIRED\n",
        "    destination_path = Path('path-to-your-destination-bids-folder') # REQUIRED"
      ]
    },
    {
      "cell_type": "code",
      "execution_count": null,
      "metadata": {
        "id": "77co6cvJiQ8A"
      },
      "outputs": [],
      "source": [
        "extra_meta_data_path = Path('path-to-your-meta-data')  # OPTIONAL\n",
        "extra_meta_data_path = extra_meta_data_path if extra_meta_data_path.exists() else None\n",
        "\n",
        "mapping_df_path = bids.get_snirf2bids_mapping_csv(dataset_path)\n",
        "display(mapping_df_path)"
      ]
    },
    {
      "cell_type": "code",
      "execution_count": null,
      "metadata": {
        "id": "PKvG-y69iQ8A"
      },
      "outputs": [],
      "source": [
        "participants_tsv_file = Path('path-to-your-participants.tsv') # OPTIONAL\n",
        "participants_json_file = Path('path-to-your-participants.json') # OPTIONAL"
      ]
    },
    {
      "cell_type": "markdown",
      "metadata": {
        "id": "oGxsJNsxiQ8A"
      },
      "source": [
        "### Please modify the mapping CSV file which is automatically created under you raw dataset folder.\n",
        "\n",
        "By default, a mapping CSV file is generated under the main raw dataset folder using the get_snirf2bids_mapping_csv function.\n",
        "Before running the rest of the code, open this file, make any necessary edits, and save it. A valid mapping CSV must include all SNIRF files in your dataset, along with the following columns:\n",
        "\n",
        "- sub: Participant identifier\n",
        "- ses (optional): Session identifier\n",
        "- task: Task name or label\n",
        "- run (optional): Run number\n",
        "- acq (optional): Acquisition label\n",
        "- cond (optional): List of condition labels\n",
        "- cond_match (optional): List of matching condition values\n",
        "- duration (optional): Event duration in seconds"
      ]
    },
    {
      "cell_type": "code",
      "execution_count": null,
      "metadata": {
        "colab": {
          "base_uri": "https://localhost:8080/",
          "height": 112
        },
        "id": "UiZxme8BiQ8A",
        "outputId": "365c4704-4bc2-4678-a8fe-b8a88a458201"
      },
      "outputs": [],
      "source": [
        "if DEMO_MODE:\n",
        "    # simulate user edits by replacing mapping_df_path with a prefilled one\n",
        "    shutil.copy(edited_mapping_df_path, mapping_df_path)\n",
        "\n",
        "mapping_df = pd.read_csv(mapping_df_path, dtype=str)\n",
        "mapping_df.head(10)"
      ]
    },
    {
      "cell_type": "markdown",
      "metadata": {
        "id": "8ELgEglviQ8A"
      },
      "source": [
        "The mapping table created below serves as a key component for organizing and processing your dataset. The `ses`, `run`, and `acq` columns are optional and can be set to None if not applicable. The `current_name` column contains the path to the SNIRF files in your dataset."
      ]
    },
    {
      "cell_type": "code",
      "execution_count": null,
      "metadata": {
        "colab": {
          "base_uri": "https://localhost:8080/",
          "height": 165,
          "referenced_widgets": [
            "c43387f118d74947be7e2e00899e5dd0",
            "8efd74eb52ad40fb9750618ab45a15b2",
            "5f9d9c246398407c9541eedbb285aa10",
            "ccbfcf30339949869972272acf76ae67",
            "31061557084a490aa654e1244a219195",
            "b75327c4fbc54478be35761776bb5098",
            "2692864e83984ff68621a1ae5a66ccf6",
            "52154ec62bfd4f23a7ac5018fb8de3ee",
            "62710c7557ea40409bf79470debaba97",
            "6c70befe48954bfd8ef56c288af6fdfe",
            "c4a74f2485c445f48edc02e833243cb2"
          ]
        },
        "id": "PlIS37f_UWSC",
        "outputId": "7a256849-5560-4de6-e826-06c1b7151288"
      },
      "outputs": [],
      "source": [
        "df = pd.read_csv(mapping_df_path)\n",
        "\n",
        "# Create sheet from dataframe\n",
        "sheet = ipysheet.from_dataframe(df)\n",
        "sheet"
      ]
    },
    {
      "cell_type": "code",
      "execution_count": null,
      "metadata": {
        "id": "6i-ix-ncU-ZU"
      },
      "outputs": [],
      "source": [
        "mapping_df = ipysheet.to_dataframe(sheet)\n",
        "mapping_df = mapping_df.applymap(lambda x: str(x) if pd.notna(x) else x)\n",
        "mapping_df.to_csv(mapping_df_path, index=False)"
      ]
    },
    {
      "cell_type": "markdown",
      "metadata": {
        "id": "y5LLwQcfiQ8A"
      },
      "source": [
        "### Looking for possible *_scan.tsv files"
      ]
    },
    {
      "cell_type": "markdown",
      "metadata": {
        "id": "232yNbGPiQ8A"
      },
      "source": [
        "To ensure no important information (e.g., acquisition time) from the original dataset is lost, we will:\n",
        "\n",
        "- Search Subdirectories: Traverse through all subdirectories within the dataset.\n",
        "- Locate Existing Scan Files: Search for all *_scan.tsv files in the dataset.\n",
        "- Integrate into Mapping Table: Extract the relevant information from these files and add it to our mapping table.\n",
        "- Extracts acquisition time from SNIRF files if missing in the `_scans.tsv` file.\n",
        "\n",
        "This approach ensures that any details, such as acquisition time, are retained and incorporated into the BIDS-compliant structure."
      ]
    },
    {
      "cell_type": "code",
      "execution_count": null,
      "metadata": {
        "colab": {
          "base_uri": "https://localhost:8080/",
          "height": 381
        },
        "id": "TIR7oS9HiQ8A",
        "outputId": "72fd614a-e8ce-46ac-91dd-d27b9afd8f4b"
      },
      "outputs": [],
      "source": [
        "mapping_df[\"filename_org\"] = mapping_df[\"current_name\"].apply(\n",
        "    lambda x: os.path.basename(x))\n",
        "scan_df = bids.search_for_acq_time_in_scan_files(dataset_path)\n",
        "\n",
        "mapping_df = pd.merge(mapping_df, scan_df, on=\"filename_org\", how=\"left\")\n",
        "mapping_df[\"acq_time\"] = mapping_df.apply(\n",
        "    bids.search_for_acq_time_in_snirf_files, axis=1, args=(dataset_path,)\n",
        ")\n",
        "\n",
        "mapping_df.head(10)"
      ]
    },
    {
      "cell_type": "markdown",
      "metadata": {
        "id": "KTFWqFqyiQ8A"
      },
      "source": [
        "The `acq_time` information is retrieved from the original dataset's *_scan.tsv files and integrated into the mapping table."
      ]
    },
    {
      "cell_type": "markdown",
      "metadata": {
        "id": "dXb9lfbHiQ8A"
      },
      "source": [
        "### Looking for possible *_session.tsv files"
      ]
    },
    {
      "cell_type": "markdown",
      "metadata": {
        "id": "l6aO4xQSiQ8A"
      },
      "source": [
        "Similar to *_scan.tsv files, we search for *_session.tsv files in the dataset path to capture additional session-level metadata, such as acquisition times. Any relevant information from these files is added to the mapping table to ensure all session details are preserved."
      ]
    },
    {
      "cell_type": "code",
      "execution_count": null,
      "metadata": {
        "colab": {
          "base_uri": "https://localhost:8080/",
          "height": 202
        },
        "id": "QIevA9l_iQ8A",
        "outputId": "e630de65-1f68-4ba9-9caa-3916bda5e5bd"
      },
      "outputs": [],
      "source": [
        "session_df = bids.search_for_sessions_acq_time(dataset_path)\n",
        "mapping_df = pd.merge(mapping_df, session_df, on=[\"sub\", \"ses\"], how=\"left\")\n",
        "\n",
        "mapping_df.head(10)"
      ]
    },
    {
      "cell_type": "markdown",
      "metadata": {},
      "source": [
        "## Converting the dataset"
      ]
    },
    {
      "cell_type": "markdown",
      "metadata": {
        "id": "62r31ecPiQ8A"
      },
      "source": [
        "### Create BIDS Folder Structure"
      ]
    },
    {
      "cell_type": "markdown",
      "metadata": {
        "id": "DQlJTvVtiQ8A"
      },
      "source": [
        "The goal of this section is to rename the SNIRF files according to the BIDS naming convention and place them in the appropriate directory under `destination_path`, following the BIDS folder structure.\n",
        "\n",
        "Steps:\n",
        "1. Generate new filenames: Create BIDS-compliant filenames for all SNIRF records.\n",
        "2. Determine file locations: Identify the appropriate locations for these files within the BIDS folder hierarchy.\n",
        "\n",
        "This process ensures that the dataset adheres to BIDS standards for organization and naming."
      ]
    },
    {
      "cell_type": "code",
      "execution_count": null,
      "metadata": {
        "colab": {
          "base_uri": "https://localhost:8080/",
          "height": 202
        },
        "id": "x5MJSQ3ziQ8A",
        "outputId": "98523986-d062-4b24-d5b2-b43cc0d2c966"
      },
      "outputs": [],
      "source": [
        "mapping_df[[\"bids_name\", \"parent_path\"]] = mapping_df.apply(\n",
        "    bids.create_bids_standard_filenames, axis=1, result_type='expand')\n",
        "\n",
        "mapping_df.head(10)"
      ]
    },
    {
      "cell_type": "markdown",
      "metadata": {
        "id": "Bu8Fl0tviQ8A"
      },
      "source": [
        "To facilitate proper organization:\n",
        "\n",
        "- `parent_path`: Added to the mapping dataframe to define the location of each SNIRF file within `destination_path`.\n",
        "- `bids_name`: Specifies the new BIDS-compliant name for each file.\n",
        "In the following sections, we will rename all files to their corresponding `bids_name` and copy them to their designated parent_path."
      ]
    },
    {
      "cell_type": "code",
      "execution_count": null,
      "metadata": {
        "id": "vWMns0SLiQ8A"
      },
      "outputs": [],
      "source": [
        "_ = mapping_df.apply(bids.copy_rename_snirf, axis=1, args=(dataset_path, destination_path))"
      ]
    },
    {
      "cell_type": "markdown",
      "metadata": {
        "id": "tm7U2OMuiQ8A"
      },
      "source": [
        "### Create BIDS specific files (e.g., _coordsystem.json)"
      ]
    },
    {
      "cell_type": "markdown",
      "metadata": {
        "id": "N9Ji1jdwiQ8A"
      },
      "source": [
        "In this step, we utilize the snirf2bids Python package to generate the necessary .tsv and .json files for the BIDS structure.\n",
        "\n",
        "For every record, the following files will be created:\n",
        "\n",
        "1. _coordsystem.json\n",
        "2. _optodes.json\n",
        "3. _optodes.tsv\n",
        "4. *_channels.tsv\n",
        "5. *_events.json\n",
        "6. *_events.tsv\n",
        "7. *_nirs.json\n",
        "\n",
        "These files are essential for ensuring the dataset adheres to BIDS standards."
      ]
    },
    {
      "cell_type": "code",
      "execution_count": null,
      "metadata": {
        "colab": {
          "base_uri": "https://localhost:8080/"
        },
        "id": "V4P5N14tiQ8A",
        "outputId": "4f414daf-b694-48e5-8891-3171618ad37b"
      },
      "outputs": [],
      "source": [
        "s2b.snirf2bids_recurse(destination_path)\n",
        "pattern = re.compile(r'.*_scans\\.tsv$|^participants\\.tsv$|^temp_participants\\.tsv$')\n",
        "files_to_delete = [file for file in destination_path.rglob('*') if file.is_file() and pattern.match(file.name)]\n",
        "for file in files_to_delete:\n",
        "    file.unlink()"
      ]
    },
    {
      "cell_type": "markdown",
      "metadata": {
        "id": "NMOYkeAriQ8B"
      },
      "source": [
        "### Create _scan.tsv Files"
      ]
    },
    {
      "cell_type": "markdown",
      "metadata": {
        "id": "B_7foHk0iQ8B"
      },
      "source": [
        "Now, we proceed to create scan files for all subjects and sessions. Previously, we searched the original dataset path for any provided scan information, which will now be incorporated into the BIDS structure."
      ]
    },
    {
      "cell_type": "code",
      "execution_count": null,
      "metadata": {
        "colab": {
          "base_uri": "https://localhost:8080/",
          "height": 162
        },
        "id": "Ff7QvlV8iQ8B",
        "outputId": "9a11e9eb-0b2a-4520-d911-ae57b576f5ef"
      },
      "outputs": [],
      "source": [
        "scan_df = mapping_df[[\"sub\", \"ses\", \"bids_name\", \"acq_time\"]]\n",
        "scan_df['ses'].fillna(\"Unknown\", inplace=True)\n",
        "scan_df = scan_df.groupby([\"sub\", \"ses\"])\n",
        "scan_df.apply(lambda group: bids.create_scan_files(group, destination_path))"
      ]
    },
    {
      "cell_type": "markdown",
      "metadata": {
        "id": "NbZIFTnXiQ8B"
      },
      "source": [
        "### Create _session.tsv Files"
      ]
    },
    {
      "cell_type": "markdown",
      "metadata": {
        "id": "rAKSR3NXiQ8B"
      },
      "source": [
        "The next step is to create session files for all subjects. As with the scan files, we previously searched the original dataset path for any session information, which will now be used to create the corresponding BIDS session files."
      ]
    },
    {
      "cell_type": "code",
      "execution_count": null,
      "metadata": {
        "colab": {
          "base_uri": "https://localhost:8080/",
          "height": 53
        },
        "id": "XKBxBa12iQ8B",
        "outputId": "61634a99-8118-460a-cdd2-58cc1bcf7bc2"
      },
      "outputs": [],
      "source": [
        "session_df = mapping_df[[\"sub\", \"ses\", \"ses_acq_time\"]]\n",
        "session_df = session_df.groupby([\"sub\"])\n",
        "session_df.apply(lambda group: bids.create_session_files(group, destination_path))"
      ]
    },
    {
      "cell_type": "markdown",
      "metadata": {
        "id": "eT4PhfJjiQ8B"
      },
      "source": [
        "### Create and Integrate participants.tsv and participants.json"
      ]
    },
    {
      "cell_type": "markdown",
      "metadata": {
        "id": "Mi75y02diQ8B"
      },
      "source": [
        "In this step, we gather available participant information and incorporate it into the BIDS structure. \n",
        "\n",
        "If you want to use custom participant metadata, you should provide it at the beginning of the code, either as a participants.tsv file or as a CSV/Excel file.\n",
        "\n",
        "- If you provide a participants.tsv file but not a corresponding participants.json, you should fill out the participants.json manually to include descriptions for each field to comply with BIDS standards.\n",
        "\n",
        "- If you provide neither file, new participants.tsv and participants.json files will be automatically created with standard fields:\n",
        "\n",
        "    - species\n",
        "    - age\n",
        "    - sex\n",
        "    - handedness\n",
        "\n",
        "You can also pass your favourite/custom fields instead of these defaults when creating new files (only applies if no valid TSV is provided)."
      ]
    },
    {
      "cell_type": "code",
      "execution_count": null,
      "metadata": {
        "colab": {
          "base_uri": "https://localhost:8080/"
        },
        "id": "fYrB3DwPiQ8B",
        "outputId": "d38e74ca-7b51-4a82-abfb-d6c0402c4b84"
      },
      "outputs": [],
      "source": [
        "saved_participants = bids.create_participants_files(bids_dir=destination_path,\n",
        "                                                    participants_tsv_path= participants_tsv_file,\n",
        "                                                    participants_json_path=participants_json_file,\n",
        "                                                    mapping_df=mapping_df,\n",
        "                                                    fields=[\"gender\", \"age\"])"
      ]
    },
    {
      "cell_type": "code",
      "execution_count": null,
      "metadata": {
        "colab": {
          "base_uri": "https://localhost:8080/",
          "height": 165,
          "referenced_widgets": [
            "cc8247c9376a4096bc646f1dc9dc71f3",
            "f11415b945184ff797d1d1c767a843a5",
            "5f4fe603309e4814a0462efc400e2cbc",
            "514c1bd6e38e4ff4afd932e1ba7bc7a4",
            "2e157310a181479b878465e2fd1c1c21"
          ]
        },
        "id": "OD2bCh7I8YfP",
        "outputId": "a988cdb8-9e7a-40ba-d25a-e65e07d46993"
      },
      "outputs": [],
      "source": [
        "participants_df = pd.read_csv(os.path.join(destination_path, \"participants.tsv\"), delimiter='\\t')\n",
        "sheet = ipysheet.from_dataframe(participants_df)\n",
        "sheet\n"
      ]
    },
    {
      "cell_type": "code",
      "execution_count": null,
      "metadata": {
        "id": "jDr6ptJ37x10"
      },
      "outputs": [],
      "source": [
        "participants_df = ipysheet.to_dataframe(sheet)\n",
        "participants_df = participants_df.applymap(lambda x: str(x) if pd.notna(x) else x)\n",
        "participants_df.to_csv(os.path.join(destination_path, \"participants.tsv\"), index=False, sep='\\t')"
      ]
    },
    {
      "cell_type": "code",
      "execution_count": null,
      "metadata": {
        "colab": {
          "base_uri": "https://localhost:8080/",
          "height": 71,
          "referenced_widgets": [
            "6169aa52df8540ea879e414bb6cf51e3",
            "1a3d9e653ebe4ec38a4e5568b50fd4af",
            "ea41fed25e164d5c9fd7f9ea30cd43a7",
            "9acd967eafd049dcbb0bbd1b0ca7e1c8"
          ]
        },
        "id": "GUjpaW4U8jPK",
        "outputId": "992d3123-a921-4ab2-bb8b-d7c684b0f3c5"
      },
      "outputs": [],
      "source": [
        "\n",
        "with open(os.path.join(destination_path, \"participants.json\")) as f:\n",
        "    data = json.load(f)\n",
        "\n",
        "df = pd.DataFrame([data])\n",
        "\n",
        "sheet = ipysheet.from_dataframe(df)\n",
        "sheet"
      ]
    },
    {
      "cell_type": "code",
      "execution_count": null,
      "metadata": {
        "id": "lgFWYtmG9XjX"
      },
      "outputs": [],
      "source": [
        "df = ipysheet.to_dataframe(sheet)\n",
        "df = df.to_dict(orient=\"records\")\n",
        "\n",
        "with open(os.path.join(destination_path, \"participants.json\"), 'w') as f:\n",
        "    json.dump(df, f)"
      ]
    },
    {
      "cell_type": "markdown",
      "metadata": {
        "id": "lGFeHEvAiQ8B"
      },
      "source": [
        "### Create data description file"
      ]
    },
    {
      "cell_type": "markdown",
      "metadata": {
        "id": "2JqfECCUiQ8B"
      },
      "source": [
        "To create the dataset_description.json file, we follow these steps:\n",
        "\n",
        "1. Search for an existing dataset_description.json in the dataset path and retain the provided information.\n",
        "2. If extra_meta_data_path is specified, add the additional metadata about the dataset.\n",
        "3. If neither dataset_description.json nor extra metadata is provided, use the basename of the dataset directory as the dataset name and set the BIDS version to '1.10.0'."
      ]
    },
    {
      "cell_type": "code",
      "execution_count": null,
      "metadata": {
        "id": "QUvIF0gNiQ8B"
      },
      "outputs": [],
      "source": [
        "bids.create_data_description(dataset_path, destination_path, extra_meta_data_path)"
      ]
    },
    {
      "cell_type": "code",
      "execution_count": null,
      "metadata": {
        "colab": {
          "base_uri": "https://localhost:8080/",
          "height": 301,
          "referenced_widgets": [
            "9b070681c2354b5a9a797efdc6edf16c",
            "12b84a29a8d74d2a9be714bda381a0a5",
            "d0d96198a81645f7bad369445aff6050",
            "343d3c49b35d4e0e8b464f0a01d136c1"
          ]
        },
        "id": "Hjsyjkmx90mc",
        "outputId": "12a32de3-4419-4304-f56b-37febc14cd72"
      },
      "outputs": [],
      "source": [
        "with open(os.path.join(destination_path, \"dataset_description.json\")) as f:\n",
        "    data = json.load(f)\n",
        "\n",
        "df = pd.DataFrame(\n",
        "    [(k, json.dumps(v) if isinstance(v, (list, dict)) else v) for k, v in data.items()],\n",
        "    columns=[\"key\", \"value\"]\n",
        ")\n",
        "sheet = ipysheet.from_dataframe(df)\n",
        "sheet"
      ]
    },
    {
      "cell_type": "code",
      "execution_count": null,
      "metadata": {
        "id": "vtBYviuT989b"
      },
      "outputs": [],
      "source": [
        "df = ipysheet.to_dataframe(sheet)\n",
        "\n",
        "df = {row[\"key\"]: row[\"value\"] for _, row in df.iterrows()}\n",
        "\n",
        "with open(os.path.join(destination_path, \"dataset_description.json\"), 'w') as f:\n",
        "    json.dump(df, f)"
      ]
    },
    {
      "cell_type": "markdown",
      "metadata": {
        "id": "AWe_McsYiQ8B"
      },
      "source": [
        "### Check _coordsystem.json file"
      ]
    },
    {
      "cell_type": "markdown",
      "metadata": {
        "id": "5Axs4rOpiQ8B"
      },
      "source": [
        "Since an empty string is not allowed for the `NIRSCoordinateSystem` key in the *_coordsystem.json file, we will populate it with \"Other\" to ensure BIDS compliance."
      ]
    },
    {
      "cell_type": "code",
      "execution_count": null,
      "metadata": {
        "id": "U8qL8tjEiQ8B"
      },
      "outputs": [],
      "source": [
        "bids.check_coord_files(destination_path)"
      ]
    },
    {
      "cell_type": "markdown",
      "metadata": {
        "id": "XvmojXMDiQ8D"
      },
      "source": [
        "### Fix *_events.tsv order\n",
        "\n",
        "Sorting events files based on onset time"
      ]
    },
    {
      "cell_type": "code",
      "execution_count": null,
      "metadata": {
        "id": "8wC_uIDjiQ8D"
      },
      "outputs": [],
      "source": [
        "_ = mapping_df.apply(bids.sort_events, axis=1, args=(destination_path,))"
      ]
    },
    {
      "cell_type": "markdown",
      "metadata": {
        "id": "Hlr9GCOtiQ8D"
      },
      "source": [
        "### Edit *_events.tsv"
      ]
    },
    {
      "cell_type": "markdown",
      "metadata": {
        "id": "SdciGvmIiQ8D"
      },
      "source": [
        "To allow editing of the `duration` or `trial_type` columns in the *_events.tsv files, the mapping CSV file must include the following extra columns:\n",
        "\n",
        "1. `duration`: Specifies the new duration for each SNIRF file that needs editing.\n",
        "2. cond and cond_match:\n",
        "\n",
        "    - cond: A list of existing condition labels found in the SNIRF file (e.g., [1, 2]).\n",
        "\n",
        "    - cond_match: A list of new labels you want to use in place of those conditions (e.g., [\"con\", \"inc\"]).\n",
        "    \n",
        "These two columns will be combined into a dictionary to update the trial_type column in the events file. This allows for relabeling of condition names in a BIDS-compliant way."
      ]
    },
    {
      "cell_type": "code",
      "execution_count": null,
      "metadata": {
        "id": "lyhl4ix0iQ8E"
      },
      "outputs": [],
      "source": [
        "_ = mapping_df.apply(bids.edit_events, axis=1, args=(destination_path,))"
      ]
    },
    {
      "cell_type": "markdown",
      "metadata": {
        "id": "BkM39fqIiQ8E"
      },
      "source": [
        "### Creating sourcedata Directory"
      ]
    },
    {
      "cell_type": "markdown",
      "metadata": {
        "id": "vspLUTLSiQ8E"
      },
      "source": [
        "Finally there is this possiblity to keep your original data under sourcedata directory at your `destination_path`."
      ]
    },
    {
      "cell_type": "code",
      "execution_count": null,
      "metadata": {
        "id": "qgXu4O7DiQ8E"
      },
      "outputs": [],
      "source": [
        "bids.save_source(dataset_path, destination_path)"
      ]
    },
    {
      "cell_type": "markdown",
      "metadata": {},
      "source": [
        "## Inspecting the results"
      ]
    },
    {
      "cell_type": "code",
      "execution_count": null,
      "metadata": {},
      "outputs": [],
      "source": [
        "seedir(destination_path)"
      ]
    },
    {
      "cell_type": "code",
      "execution_count": null,
      "metadata": {},
      "outputs": [],
      "source": [
        "display(pd.read_table(destination_path / \"participants.tsv\"))"
      ]
    },
    {
      "cell_type": "code",
      "execution_count": null,
      "metadata": {},
      "outputs": [],
      "source": [
        "with open(destination_path / \"participants.json\") as fin:\n",
        "    print_json(fin.read())"
      ]
    },
    {
      "cell_type": "code",
      "execution_count": null,
      "metadata": {},
      "outputs": [],
      "source": [
        "with open(destination_path / \"dataset_description.json\") as fin:\n",
        "    print_json(fin.read())"
      ]
    }
  ],
  "metadata": {
    "accelerator": "GPU",
    "colab": {
      "gpuType": "T4",
      "provenance": []
    },
    "kernelspec": {
      "display_name": "Python 3",
      "name": "python3"
    },
    "language_info": {
      "codemirror_mode": {
        "name": "ipython",
        "version": 3
      },
      "file_extension": ".py",
      "mimetype": "text/x-python",
      "name": "python",
      "nbconvert_exporter": "python",
      "pygments_lexer": "ipython3",
      "version": "3.11.13"
    },
    "widgets": {
      "application/vnd.jupyter.widget-state+json": {
        "12b84a29a8d74d2a9be714bda381a0a5": {
          "model_module": "ipysheet",
          "model_module_version": "~0.7.0",
          "model_name": "CellRangeModel",
          "state": {
            "_model_module": "ipysheet",
            "_model_module_version": "~0.7.0",
            "_model_name": "CellRangeModel",
            "_view_count": null,
            "_view_module": null,
            "_view_module_version": "",
            "_view_name": null,
            "choice": null,
            "column_end": 0,
            "column_start": 0,
            "date_format": "YYYY/MM/DD",
            "name": null,
            "numeric_format": null,
            "read_only": false,
            "renderer": null,
            "row_end": 10,
            "row_start": 0,
            "squeeze_column": true,
            "squeeze_row": false,
            "style": {},
            "time_format": "h:mm:ss a",
            "transpose": false,
            "type": "text",
            "value": [
              "Name",
              "BIDSVersion",
              "License",
              "DatasetType",
              "Authors",
              "Acknowledgements",
              "HowToAcknowledge",
              "DatasetDOI",
              "Funding",
              "EthicsApprovals",
              "ReferencesAndLinks"
            ]
          }
        },
        "1a3d9e653ebe4ec38a4e5568b50fd4af": {
          "model_module": "ipysheet",
          "model_module_version": "~0.7.0",
          "model_name": "CellRangeModel",
          "state": {
            "_model_module": "ipysheet",
            "_model_module_version": "~0.7.0",
            "_model_name": "CellRangeModel",
            "_view_count": null,
            "_view_module": null,
            "_view_module_version": "",
            "_view_name": null,
            "choice": null,
            "column_end": 0,
            "column_start": 0,
            "date_format": "YYYY/MM/DD",
            "name": null,
            "numeric_format": null,
            "read_only": false,
            "renderer": null,
            "row_end": 0,
            "row_start": 0,
            "squeeze_column": true,
            "squeeze_row": false,
            "style": {},
            "time_format": "h:mm:ss a",
            "transpose": false,
            "type": "text",
            "value": [
              "gender or sex"
            ]
          }
        },
        "2692864e83984ff68621a1ae5a66ccf6": {
          "model_module": "ipysheet",
          "model_module_version": "~0.7.0",
          "model_name": "CellRangeModel",
          "state": {
            "_model_module": "ipysheet",
            "_model_module_version": "~0.7.0",
            "_model_name": "CellRangeModel",
            "_view_count": null,
            "_view_module": null,
            "_view_module_version": "",
            "_view_name": null,
            "choice": null,
            "column_end": 5,
            "column_start": 5,
            "date_format": "YYYY/MM/DD",
            "name": null,
            "numeric_format": "0.000",
            "read_only": false,
            "renderer": null,
            "row_end": 1,
            "row_start": 0,
            "squeeze_column": true,
            "squeeze_row": false,
            "style": {},
            "time_format": "h:mm:ss a",
            "transpose": false,
            "type": "numeric",
            "value": [
              "nan",
              "nan"
            ]
          }
        },
        "2e157310a181479b878465e2fd1c1c21": {
          "model_module": "@jupyter-widgets/base",
          "model_module_version": "1.2.0",
          "model_name": "LayoutModel",
          "state": {
            "_model_module": "@jupyter-widgets/base",
            "_model_module_version": "1.2.0",
            "_model_name": "LayoutModel",
            "_view_count": null,
            "_view_module": "@jupyter-widgets/base",
            "_view_module_version": "1.2.0",
            "_view_name": "LayoutView",
            "align_content": null,
            "align_items": null,
            "align_self": null,
            "border": null,
            "bottom": null,
            "display": null,
            "flex": null,
            "flex_flow": null,
            "grid_area": null,
            "grid_auto_columns": null,
            "grid_auto_flow": null,
            "grid_auto_rows": null,
            "grid_column": null,
            "grid_gap": null,
            "grid_row": null,
            "grid_template_areas": null,
            "grid_template_columns": null,
            "grid_template_rows": null,
            "height": "auto",
            "justify_content": null,
            "justify_items": null,
            "left": null,
            "margin": null,
            "max_height": null,
            "max_width": null,
            "min_height": null,
            "min_width": null,
            "object_fit": null,
            "object_position": null,
            "order": null,
            "overflow": null,
            "overflow_x": null,
            "overflow_y": null,
            "padding": null,
            "right": null,
            "top": null,
            "visibility": null,
            "width": "auto"
          }
        },
        "31061557084a490aa654e1244a219195": {
          "model_module": "ipysheet",
          "model_module_version": "~0.7.0",
          "model_name": "CellRangeModel",
          "state": {
            "_model_module": "ipysheet",
            "_model_module_version": "~0.7.0",
            "_model_name": "CellRangeModel",
            "_view_count": null,
            "_view_module": null,
            "_view_module_version": "",
            "_view_name": null,
            "choice": null,
            "column_end": 3,
            "column_start": 3,
            "date_format": "YYYY/MM/DD",
            "name": null,
            "numeric_format": "0.000",
            "read_only": false,
            "renderer": null,
            "row_end": 1,
            "row_start": 0,
            "squeeze_column": true,
            "squeeze_row": false,
            "style": {},
            "time_format": "h:mm:ss a",
            "transpose": false,
            "type": "numeric",
            "value": [
              "ballsqueezing",
              "ballsqueezing"
            ]
          }
        },
        "343d3c49b35d4e0e8b464f0a01d136c1": {
          "model_module": "@jupyter-widgets/base",
          "model_module_version": "1.2.0",
          "model_name": "LayoutModel",
          "state": {
            "_model_module": "@jupyter-widgets/base",
            "_model_module_version": "1.2.0",
            "_model_name": "LayoutModel",
            "_view_count": null,
            "_view_module": "@jupyter-widgets/base",
            "_view_module_version": "1.2.0",
            "_view_name": "LayoutView",
            "align_content": null,
            "align_items": null,
            "align_self": null,
            "border": null,
            "bottom": null,
            "display": null,
            "flex": null,
            "flex_flow": null,
            "grid_area": null,
            "grid_auto_columns": null,
            "grid_auto_flow": null,
            "grid_auto_rows": null,
            "grid_column": null,
            "grid_gap": null,
            "grid_row": null,
            "grid_template_areas": null,
            "grid_template_columns": null,
            "grid_template_rows": null,
            "height": "auto",
            "justify_content": null,
            "justify_items": null,
            "left": null,
            "margin": null,
            "max_height": null,
            "max_width": null,
            "min_height": null,
            "min_width": null,
            "object_fit": null,
            "object_position": null,
            "order": null,
            "overflow": null,
            "overflow_x": null,
            "overflow_y": null,
            "padding": null,
            "right": null,
            "top": null,
            "visibility": null,
            "width": "auto"
          }
        },
        "514c1bd6e38e4ff4afd932e1ba7bc7a4": {
          "model_module": "ipysheet",
          "model_module_version": "~0.7.0",
          "model_name": "CellRangeModel",
          "state": {
            "_model_module": "ipysheet",
            "_model_module_version": "~0.7.0",
            "_model_name": "CellRangeModel",
            "_view_count": null,
            "_view_module": null,
            "_view_module_version": "",
            "_view_name": null,
            "choice": null,
            "column_end": 2,
            "column_start": 2,
            "date_format": "YYYY/MM/DD",
            "name": null,
            "numeric_format": "0.000",
            "read_only": false,
            "renderer": null,
            "row_end": 1,
            "row_start": 0,
            "squeeze_column": true,
            "squeeze_row": false,
            "style": {},
            "time_format": "h:mm:ss a",
            "transpose": false,
            "type": "numeric",
            "value": [
              "nan",
              "nan"
            ]
          }
        },
        "52154ec62bfd4f23a7ac5018fb8de3ee": {
          "model_module": "ipysheet",
          "model_module_version": "~0.7.0",
          "model_name": "CellRangeModel",
          "state": {
            "_model_module": "ipysheet",
            "_model_module_version": "~0.7.0",
            "_model_name": "CellRangeModel",
            "_view_count": null,
            "_view_module": null,
            "_view_module_version": "",
            "_view_name": null,
            "choice": null,
            "column_end": 6,
            "column_start": 6,
            "date_format": "YYYY/MM/DD",
            "name": null,
            "numeric_format": "0.000",
            "read_only": false,
            "renderer": null,
            "row_end": 1,
            "row_start": 0,
            "squeeze_column": true,
            "squeeze_row": false,
            "style": {},
            "time_format": "h:mm:ss a",
            "transpose": false,
            "type": "numeric",
            "value": [
              "nan",
              "nan"
            ]
          }
        },
        "5f4fe603309e4814a0462efc400e2cbc": {
          "model_module": "ipysheet",
          "model_module_version": "~0.7.0",
          "model_name": "CellRangeModel",
          "state": {
            "_model_module": "ipysheet",
            "_model_module_version": "~0.7.0",
            "_model_name": "CellRangeModel",
            "_view_count": null,
            "_view_module": null,
            "_view_module_version": "",
            "_view_name": null,
            "choice": null,
            "column_end": 1,
            "column_start": 1,
            "date_format": "YYYY/MM/DD",
            "name": null,
            "numeric_format": "0.000",
            "read_only": false,
            "renderer": null,
            "row_end": 1,
            "row_start": 0,
            "squeeze_column": true,
            "squeeze_row": false,
            "style": {},
            "time_format": "h:mm:ss a",
            "transpose": false,
            "type": "numeric",
            "value": [
              "nan",
              "nan"
            ]
          }
        },
        "5f9d9c246398407c9541eedbb285aa10": {
          "model_module": "ipysheet",
          "model_module_version": "~0.7.0",
          "model_name": "CellRangeModel",
          "state": {
            "_model_module": "ipysheet",
            "_model_module_version": "~0.7.0",
            "_model_name": "CellRangeModel",
            "_view_count": null,
            "_view_module": null,
            "_view_module_version": "",
            "_view_name": null,
            "choice": null,
            "column_end": 1,
            "column_start": 1,
            "date_format": "YYYY/MM/DD",
            "name": null,
            "numeric_format": "0.000",
            "read_only": false,
            "renderer": null,
            "row_end": 1,
            "row_start": 0,
            "squeeze_column": true,
            "squeeze_row": false,
            "style": {},
            "time_format": "h:mm:ss a",
            "transpose": false,
            "type": "numeric",
            "value": [
              473,
              474
            ]
          }
        },
        "6169aa52df8540ea879e414bb6cf51e3": {
          "model_module": "ipysheet",
          "model_module_version": "~0.7.0",
          "model_name": "SheetModel",
          "state": {
            "_dom_classes": [],
            "_model_module": "ipysheet",
            "_model_module_version": "~0.7.0",
            "_model_name": "SheetModel",
            "_view_count": null,
            "_view_module": "ipysheet",
            "_view_module_version": "~0.7.0",
            "_view_name": "SheetView",
            "cells": [
              "IPY_MODEL_1a3d9e653ebe4ec38a4e5568b50fd4af",
              "IPY_MODEL_ea41fed25e164d5c9fd7f9ea30cd43a7"
            ],
            "column_headers": [
              "gender",
              "age"
            ],
            "column_resizing": true,
            "column_width": null,
            "columns": 2,
            "layout": "IPY_MODEL_9acd967eafd049dcbb0bbd1b0ca7e1c8",
            "named_cells": {},
            "row_headers": [
              "0"
            ],
            "row_resizing": true,
            "rows": 1,
            "search_token": "",
            "stretch_headers": "all"
          }
        },
        "62710c7557ea40409bf79470debaba97": {
          "model_module": "ipysheet",
          "model_module_version": "~0.7.0",
          "model_name": "CellRangeModel",
          "state": {
            "_model_module": "ipysheet",
            "_model_module_version": "~0.7.0",
            "_model_name": "CellRangeModel",
            "_view_count": null,
            "_view_module": null,
            "_view_module_version": "",
            "_view_name": null,
            "choice": null,
            "column_end": 7,
            "column_start": 7,
            "date_format": "YYYY/MM/DD",
            "name": null,
            "numeric_format": "0.000",
            "read_only": false,
            "renderer": null,
            "row_end": 1,
            "row_start": 0,
            "squeeze_column": true,
            "squeeze_row": false,
            "style": {},
            "time_format": "h:mm:ss a",
            "transpose": false,
            "type": "numeric",
            "value": [
              "nan",
              "nan"
            ]
          }
        },
        "6c70befe48954bfd8ef56c288af6fdfe": {
          "model_module": "ipysheet",
          "model_module_version": "~0.7.0",
          "model_name": "CellRangeModel",
          "state": {
            "_model_module": "ipysheet",
            "_model_module_version": "~0.7.0",
            "_model_name": "CellRangeModel",
            "_view_count": null,
            "_view_module": null,
            "_view_module_version": "",
            "_view_name": null,
            "choice": null,
            "column_end": 8,
            "column_start": 8,
            "date_format": "YYYY/MM/DD",
            "name": null,
            "numeric_format": "0.000",
            "read_only": false,
            "renderer": null,
            "row_end": 1,
            "row_start": 0,
            "squeeze_column": true,
            "squeeze_row": false,
            "style": {},
            "time_format": "h:mm:ss a",
            "transpose": false,
            "type": "numeric",
            "value": [
              "nan",
              "nan"
            ]
          }
        },
        "8efd74eb52ad40fb9750618ab45a15b2": {
          "model_module": "ipysheet",
          "model_module_version": "~0.7.0",
          "model_name": "CellRangeModel",
          "state": {
            "_model_module": "ipysheet",
            "_model_module_version": "~0.7.0",
            "_model_name": "CellRangeModel",
            "_view_count": null,
            "_view_module": null,
            "_view_module_version": "",
            "_view_name": null,
            "choice": null,
            "column_end": 0,
            "column_start": 0,
            "date_format": "YYYY/MM/DD",
            "name": null,
            "numeric_format": null,
            "read_only": false,
            "renderer": null,
            "row_end": 1,
            "row_start": 0,
            "squeeze_column": true,
            "squeeze_row": false,
            "style": {},
            "time_format": "h:mm:ss a",
            "transpose": false,
            "type": "text",
            "value": [
              "02262024_1100_473/2024-02-26_010/2024-02-26_014",
              "02272024_1030_474/2024-02-27_010/2024-02-27_010"
            ]
          }
        },
        "9acd967eafd049dcbb0bbd1b0ca7e1c8": {
          "model_module": "@jupyter-widgets/base",
          "model_module_version": "1.2.0",
          "model_name": "LayoutModel",
          "state": {
            "_model_module": "@jupyter-widgets/base",
            "_model_module_version": "1.2.0",
            "_model_name": "LayoutModel",
            "_view_count": null,
            "_view_module": "@jupyter-widgets/base",
            "_view_module_version": "1.2.0",
            "_view_name": "LayoutView",
            "align_content": null,
            "align_items": null,
            "align_self": null,
            "border": null,
            "bottom": null,
            "display": null,
            "flex": null,
            "flex_flow": null,
            "grid_area": null,
            "grid_auto_columns": null,
            "grid_auto_flow": null,
            "grid_auto_rows": null,
            "grid_column": null,
            "grid_gap": null,
            "grid_row": null,
            "grid_template_areas": null,
            "grid_template_columns": null,
            "grid_template_rows": null,
            "height": "auto",
            "justify_content": null,
            "justify_items": null,
            "left": null,
            "margin": null,
            "max_height": null,
            "max_width": null,
            "min_height": null,
            "min_width": null,
            "object_fit": null,
            "object_position": null,
            "order": null,
            "overflow": null,
            "overflow_x": null,
            "overflow_y": null,
            "padding": null,
            "right": null,
            "top": null,
            "visibility": null,
            "width": "auto"
          }
        },
        "9b070681c2354b5a9a797efdc6edf16c": {
          "model_module": "ipysheet",
          "model_module_version": "~0.7.0",
          "model_name": "SheetModel",
          "state": {
            "_dom_classes": [],
            "_model_module": "ipysheet",
            "_model_module_version": "~0.7.0",
            "_model_name": "SheetModel",
            "_view_count": null,
            "_view_module": "ipysheet",
            "_view_module_version": "~0.7.0",
            "_view_name": "SheetView",
            "cells": [
              "IPY_MODEL_12b84a29a8d74d2a9be714bda381a0a5",
              "IPY_MODEL_d0d96198a81645f7bad369445aff6050"
            ],
            "column_headers": [
              "key",
              "value"
            ],
            "column_resizing": true,
            "column_width": null,
            "columns": 2,
            "layout": "IPY_MODEL_343d3c49b35d4e0e8b464f0a01d136c1",
            "named_cells": {},
            "row_headers": [
              "0",
              "1",
              "2",
              "3",
              "4",
              "5",
              "6",
              "7",
              "8",
              "9",
              "10"
            ],
            "row_resizing": true,
            "rows": 11,
            "search_token": "",
            "stretch_headers": "all"
          }
        },
        "b75327c4fbc54478be35761776bb5098": {
          "model_module": "ipysheet",
          "model_module_version": "~0.7.0",
          "model_name": "CellRangeModel",
          "state": {
            "_model_module": "ipysheet",
            "_model_module_version": "~0.7.0",
            "_model_name": "CellRangeModel",
            "_view_count": null,
            "_view_module": null,
            "_view_module_version": "",
            "_view_name": null,
            "choice": null,
            "column_end": 4,
            "column_start": 4,
            "date_format": "YYYY/MM/DD",
            "name": null,
            "numeric_format": "0.000",
            "read_only": false,
            "renderer": null,
            "row_end": 1,
            "row_start": 0,
            "squeeze_column": true,
            "squeeze_row": false,
            "style": {},
            "time_format": "h:mm:ss a",
            "transpose": false,
            "type": "numeric",
            "value": [
              "nan",
              "nan"
            ]
          }
        },
        "c43387f118d74947be7e2e00899e5dd0": {
          "model_module": "ipysheet",
          "model_module_version": "~0.7.0",
          "model_name": "SheetModel",
          "state": {
            "_dom_classes": [],
            "_model_module": "ipysheet",
            "_model_module_version": "~0.7.0",
            "_model_name": "SheetModel",
            "_view_count": null,
            "_view_module": "ipysheet",
            "_view_module_version": "~0.7.0",
            "_view_name": "SheetView",
            "cells": [
              "IPY_MODEL_8efd74eb52ad40fb9750618ab45a15b2",
              "IPY_MODEL_5f9d9c246398407c9541eedbb285aa10",
              "IPY_MODEL_ccbfcf30339949869972272acf76ae67",
              "IPY_MODEL_31061557084a490aa654e1244a219195",
              "IPY_MODEL_b75327c4fbc54478be35761776bb5098",
              "IPY_MODEL_2692864e83984ff68621a1ae5a66ccf6",
              "IPY_MODEL_52154ec62bfd4f23a7ac5018fb8de3ee",
              "IPY_MODEL_62710c7557ea40409bf79470debaba97",
              "IPY_MODEL_6c70befe48954bfd8ef56c288af6fdfe"
            ],
            "column_headers": [
              "current_name",
              "sub",
              "ses",
              "task",
              "run",
              "acq",
              "cond",
              "cond_match",
              "duration"
            ],
            "column_resizing": true,
            "column_width": null,
            "columns": 9,
            "layout": "IPY_MODEL_c4a74f2485c445f48edc02e833243cb2",
            "named_cells": {},
            "row_headers": [
              "0",
              "1"
            ],
            "row_resizing": true,
            "rows": 2,
            "search_token": "",
            "stretch_headers": "all"
          }
        },
        "c4a74f2485c445f48edc02e833243cb2": {
          "model_module": "@jupyter-widgets/base",
          "model_module_version": "1.2.0",
          "model_name": "LayoutModel",
          "state": {
            "_model_module": "@jupyter-widgets/base",
            "_model_module_version": "1.2.0",
            "_model_name": "LayoutModel",
            "_view_count": null,
            "_view_module": "@jupyter-widgets/base",
            "_view_module_version": "1.2.0",
            "_view_name": "LayoutView",
            "align_content": null,
            "align_items": null,
            "align_self": null,
            "border": null,
            "bottom": null,
            "display": null,
            "flex": null,
            "flex_flow": null,
            "grid_area": null,
            "grid_auto_columns": null,
            "grid_auto_flow": null,
            "grid_auto_rows": null,
            "grid_column": null,
            "grid_gap": null,
            "grid_row": null,
            "grid_template_areas": null,
            "grid_template_columns": null,
            "grid_template_rows": null,
            "height": "auto",
            "justify_content": null,
            "justify_items": null,
            "left": null,
            "margin": null,
            "max_height": null,
            "max_width": null,
            "min_height": null,
            "min_width": null,
            "object_fit": null,
            "object_position": null,
            "order": null,
            "overflow": null,
            "overflow_x": null,
            "overflow_y": null,
            "padding": null,
            "right": null,
            "top": null,
            "visibility": null,
            "width": "auto"
          }
        },
        "cc8247c9376a4096bc646f1dc9dc71f3": {
          "model_module": "ipysheet",
          "model_module_version": "~0.7.0",
          "model_name": "SheetModel",
          "state": {
            "_dom_classes": [],
            "_model_module": "ipysheet",
            "_model_module_version": "~0.7.0",
            "_model_name": "SheetModel",
            "_view_count": null,
            "_view_module": "ipysheet",
            "_view_module_version": "~0.7.0",
            "_view_name": "SheetView",
            "cells": [
              "IPY_MODEL_f11415b945184ff797d1d1c767a843a5",
              "IPY_MODEL_5f4fe603309e4814a0462efc400e2cbc",
              "IPY_MODEL_514c1bd6e38e4ff4afd932e1ba7bc7a4"
            ],
            "column_headers": [
              "participant_id",
              "gender",
              "age"
            ],
            "column_resizing": true,
            "column_width": null,
            "columns": 3,
            "layout": "IPY_MODEL_2e157310a181479b878465e2fd1c1c21",
            "named_cells": {},
            "row_headers": [
              "0",
              "1"
            ],
            "row_resizing": true,
            "rows": 2,
            "search_token": "",
            "stretch_headers": "all"
          }
        },
        "ccbfcf30339949869972272acf76ae67": {
          "model_module": "ipysheet",
          "model_module_version": "~0.7.0",
          "model_name": "CellRangeModel",
          "state": {
            "_model_module": "ipysheet",
            "_model_module_version": "~0.7.0",
            "_model_name": "CellRangeModel",
            "_view_count": null,
            "_view_module": null,
            "_view_module_version": "",
            "_view_name": null,
            "choice": null,
            "column_end": 2,
            "column_start": 2,
            "date_format": "YYYY/MM/DD",
            "name": null,
            "numeric_format": "0.000",
            "read_only": false,
            "renderer": null,
            "row_end": 1,
            "row_start": 0,
            "squeeze_column": true,
            "squeeze_row": false,
            "style": {},
            "time_format": "h:mm:ss a",
            "transpose": false,
            "type": "numeric",
            "value": [
              "nan",
              "nan"
            ]
          }
        },
        "d0d96198a81645f7bad369445aff6050": {
          "model_module": "ipysheet",
          "model_module_version": "~0.7.0",
          "model_name": "CellRangeModel",
          "state": {
            "_model_module": "ipysheet",
            "_model_module_version": "~0.7.0",
            "_model_name": "CellRangeModel",
            "_view_count": null,
            "_view_module": null,
            "_view_module_version": "",
            "_view_name": null,
            "choice": null,
            "column_end": 1,
            "column_start": 1,
            "date_format": "YYYY/MM/DD",
            "name": null,
            "numeric_format": null,
            "read_only": false,
            "renderer": null,
            "row_end": 10,
            "row_start": 0,
            "squeeze_column": true,
            "squeeze_row": false,
            "style": {},
            "time_format": "h:mm:ss a",
            "transpose": false,
            "type": "text",
            "value": [
              "DatasetI-NIRx",
              "1.10.0",
              "CC0",
              "raw",
              "[\"Enter author names here\"]",
              "Enter acknowledgements here (e.g., funding sources, institutions).",
              "Provide details on how to cite or acknowledge this dataset.",
              "Enter DOI here if available.",
              "[\"Enter funding details here, if applicable.\"]",
              "[\"Enter ethics approval details here, if applicable.\"]",
              "[\"Enter references or related links here, if applicable.\"]"
            ]
          }
        },
        "ea41fed25e164d5c9fd7f9ea30cd43a7": {
          "model_module": "ipysheet",
          "model_module_version": "~0.7.0",
          "model_name": "CellRangeModel",
          "state": {
            "_model_module": "ipysheet",
            "_model_module_version": "~0.7.0",
            "_model_name": "CellRangeModel",
            "_view_count": null,
            "_view_module": null,
            "_view_module_version": "",
            "_view_name": null,
            "choice": null,
            "column_end": 1,
            "column_start": 1,
            "date_format": "YYYY/MM/DD",
            "name": null,
            "numeric_format": null,
            "read_only": false,
            "renderer": null,
            "row_end": 0,
            "row_start": 0,
            "squeeze_column": true,
            "squeeze_row": false,
            "style": {},
            "time_format": "h:mm:ss a",
            "transpose": false,
            "type": "text",
            "value": [
              null
            ]
          }
        },
        "f11415b945184ff797d1d1c767a843a5": {
          "model_module": "ipysheet",
          "model_module_version": "~0.7.0",
          "model_name": "CellRangeModel",
          "state": {
            "_model_module": "ipysheet",
            "_model_module_version": "~0.7.0",
            "_model_name": "CellRangeModel",
            "_view_count": null,
            "_view_module": null,
            "_view_module_version": "",
            "_view_name": null,
            "choice": null,
            "column_end": 0,
            "column_start": 0,
            "date_format": "YYYY/MM/DD",
            "name": null,
            "numeric_format": null,
            "read_only": false,
            "renderer": null,
            "row_end": 1,
            "row_start": 0,
            "squeeze_column": true,
            "squeeze_row": false,
            "style": {},
            "time_format": "h:mm:ss a",
            "transpose": false,
            "type": "text",
            "value": [
              "sub-473",
              "sub-474"
            ]
          }
        }
      }
    }
  },
  "nbformat": 4,
  "nbformat_minor": 0
}
